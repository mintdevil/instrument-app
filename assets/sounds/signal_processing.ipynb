{
 "cells": [
  {
   "cell_type": "code",
   "execution_count": 1,
   "id": "8666b766",
   "metadata": {},
   "outputs": [],
   "source": [
    "import wave\n",
    "import array\n",
    "\n",
    "def wav_to_uint8_list(file_path):\n",
    "    with wave.open(file_path, 'rb') as wav_file:\n",
    "        # Get the parameters of the WAV file\n",
    "        sample_width = wav_file.getsampwidth()\n",
    "        frame_rate = wav_file.getframerate()\n",
    "\n",
    "        # Read all frames from the WAV file\n",
    "        frames = wav_file.readframes(wav_file.getnframes())\n",
    "\n",
    "        uint8_list = array.array('B', frames)\n",
    "\n",
    "        return uint8_list\n",
    "\n",
    "def save_uint8_list_to_file(uint8_list, output_file_path):\n",
    "    with open(output_file_path, 'wb') as output_file:\n",
    "        output_file.write(uint8_list)\n",
    "\n",
    "file_path = 'drumkit/snare-drum.wav'\n",
    "uint8_list = wav_to_uint8_list(file_path)\n",
    "\n",
    "output_file_path = 'drumkit/snare-drum.bin'\n",
    "# save_uint8_list_to_file(uint8_list, output_file_path)\n"
   ]
  },
  {
   "cell_type": "code",
   "execution_count": 2,
   "id": "4d5f55a8",
   "metadata": {},
   "outputs": [],
   "source": [
    "import array\n",
    "\n",
    "def read_uint8_list_from_file(file_path):\n",
    "    with open(file_path, 'rb') as file:\n",
    "        uint8_list = array.array('B', file.read())\n",
    "    return uint8_list\n",
    "\n",
    "file_path = 'shaker.bin'\n",
    "original_sound_byte_array = read_uint8_list_from_file(file_path)\n"
   ]
  },
  {
   "cell_type": "code",
   "execution_count": 55,
   "id": "ff0725a4",
   "metadata": {},
   "outputs": [],
   "source": [
    "def snap_to_beat(timestamp, beat, half_beat):\n",
    "    nearest_beat = round(timestamp / beat) * beat\n",
    "    nearest_half_beat = round(timestamp / half_beat) * half_beat\n",
    "\n",
    "    return min(nearest_beat, nearest_half_beat, key=lambda x: abs(x - timestamp))"
   ]
  },
  {
   "cell_type": "code",
   "execution_count": 102,
   "id": "18223040",
   "metadata": {},
   "outputs": [],
   "source": [
    "import numpy as np\n",
    "import time\n",
    "from math import sqrt\n",
    "\n",
    "def mix_sounds(timestamps, volumes, byte_array, speed, existing_array = None):\n",
    "    sound_data = np.frombuffer(byte_array, dtype=np.int32)\n",
    "    \n",
    "    beat = speed/60 * 1000\n",
    "    half_beat = speed/60 * 500\n",
    "    \n",
    "    timestamps = [snap_to_beat(timestamp, beat, half_beat) for timestamp in timestamps]\n",
    "        \n",
    "    if existing_array is None:\n",
    "        sound_final = np.empty(0, dtype=np.int32)\n",
    "        \n",
    "        for i in range(0, len(timestamps)):\n",
    "            delay = int(timestamps[i] * 44100 / 1000) - len(sound_final)\n",
    "            sound_final = np.concatenate([sound_final, np.zeros(delay, dtype=np.int32)])\n",
    "            volume_factor = pow(2, (sqrt(sqrt(sqrt(volumes[i]))) * 192 - 192)/6)\n",
    "            scaled_sound_segment = (sound_data * volume_factor).astype(np.int32) \n",
    "\n",
    "            sound_final = np.concatenate([sound_final, scaled_sound_segment])\n",
    "\n",
    "        # add a 0.1 seconds after the audio so that it does not sound cut off\n",
    "        sound_final = np.concatenate([sound_final, np.zeros(int(100*44100/1000), dtype=np.int32)])\n",
    "\n",
    "        return sound_final\n",
    "    \n",
    "    else:\n",
    "        existing_data = np.frombuffer(existing_array, dtype=np.int32)\n",
    "        hasPassedLength = False\n",
    "        for i in range(len(timestamps)):\n",
    "            overlap_start_index = int(timestamps[i] * 44100 / 1000)\n",
    "            overlap_end_index = overlap_start_index + len(sound_data)\n",
    "            \n",
    "            volume_factor = pow(2, (sqrt(sqrt(sqrt(volumes[i]))) * 192 - 192)/6)\n",
    "            scaled_sound_segment = (sound_data * volume_factor).astype(np.int32) \n",
    "        \n",
    "            if overlap_start_index > len(existing_data): \n",
    "                # pad with 0s until the start index\n",
    "                padding = overlap_start_index - len(existing_data)\n",
    "                existing_data = np.concatenate([existing_data, np.zeros(padding, dtype=np.int32)])\n",
    "                existing_data = np.concatenate([existing_data, scaled_sound_segment])\n",
    "            elif overlap_start_index < len(existing_data) and overlap_end_index > len(existing_data):\n",
    "                front_values = len(existing_data) - overlap_start_index\n",
    "\n",
    "                existing_data[overlap_start_index:] = np.add(existing_data[overlap_start_index:], scaled_sound_segment[:front_values])\n",
    "                existing_data = np.concatenate([existing_data, scaled_sound_segment[front_values:]])\n",
    "            else:\n",
    "                existing_data[overlap_start_index:overlap_end_index] = np.add(existing_data[overlap_start_index:overlap_end_index], sound_data)\n",
    "        \n",
    "        \n",
    "        # add a 0.1 seconds after the audio so that it does not sound cut off\n",
    "        existing_data = np.concatenate([existing_data, np.zeros(int(100*44100/1000), dtype=np.int32)])\n",
    "        \n",
    "        return existing_data"
   ]
  },
  {
   "cell_type": "code",
   "execution_count": 103,
   "id": "4e9ce38d",
   "metadata": {},
   "outputs": [],
   "source": [
    "import wave\n",
    "\n",
    "def save_as_wav(byte_array, filename, sample_width=4, channels=1, frame_rate=44100):\n",
    "    with wave.open(filename, 'wb') as wave_file:\n",
    "        wave_file.setsampwidth(sample_width)\n",
    "        wave_file.setframerate(frame_rate)\n",
    "        wave_file.setnchannels(channels)\n",
    "        wave_file.writeframes(byte_array)\n",
    "\n",
    "# Example usage:\n",
    "# output_filename = 'looped_sound1.wav'\n",
    "# save_as_wav(looped_byte_array, output_filename)\n",
    "# save_as_wav(original_sound_byte_array, \"shaker1.wav\")\n"
   ]
  },
  {
   "cell_type": "code",
   "execution_count": 104,
   "id": "e797a127",
   "metadata": {},
   "outputs": [],
   "source": [
    "# tesing mixing\n",
    "\n",
    "guiro_bytes = read_uint8_list_from_file(\"guiro.bin\")\n",
    "shaker_bytes = read_uint8_list_from_file(\"shaker.bin\")\n",
    "cymbal_bytes = read_uint8_list_from_file(\"drumkit/cymbal.bin\")\n",
    "\n",
    "shaker_timestamps = [1027, 2017, 3057, 4083]\n",
    "guiro_timestamps = [2550, 4670]#[1000, 2000, 3000, 4000] [5000, 6000, 7000, 8000] #[3057, 6000]\n",
    "cymbal_timestamps = [5056]\n",
    "\n",
    "shaker_volumes = [1.0, 0.5, 1.0, 0.5]\n",
    "guiro_volumes = [1.0, 1.0]\n",
    "cymbal_volumes = [1.0]\n",
    "\n",
    "metronome_speed = 60"
   ]
  },
  {
   "cell_type": "code",
   "execution_count": 105,
   "id": "1af156ff",
   "metadata": {},
   "outputs": [],
   "source": [
    "save_as_wav(mix_sounds(shaker_timestamps, shaker_volumes, shaker_bytes, metronome_speed), \"mixed_sounds_volume.wav\")"
   ]
  },
  {
   "cell_type": "code",
   "execution_count": 106,
   "id": "faebb839",
   "metadata": {},
   "outputs": [],
   "source": [
    "mixed_sounds_bytes = wav_to_uint8_list(\"mixed_sounds_volume.wav\")\n",
    "mixed_guiro_shaker = mix_sounds(guiro_timestamps, guiro_volumes, guiro_bytes, metronome_speed, mixed_sounds_bytes)"
   ]
  },
  {
   "cell_type": "code",
   "execution_count": 107,
   "id": "745536c9",
   "metadata": {},
   "outputs": [],
   "source": [
    "save_as_wav(mixed_guiro_shaker, \"mixed_guiro_shaker_volume.wav\")"
   ]
  },
  {
   "cell_type": "code",
   "execution_count": 108,
   "id": "284d8571",
   "metadata": {},
   "outputs": [],
   "source": [
    "save_as_wav(mix_sounds(cymbal_timestamps, cymbal_volumes, cymbal_bytes, metronome_speed, wav_to_uint8_list(\"mixed_guiro_shaker_volume.wav\")), \"mixed_guiro_shaker_cymbal_volume.wav\")"
   ]
  },
  {
   "cell_type": "code",
   "execution_count": 114,
   "id": "a43f2870",
   "metadata": {},
   "outputs": [
    {
     "name": "stdout",
     "output_type": "stream",
     "text": [
      "Shaker Information:\n",
      "Timestamps: [0, 3291, 6582]\n",
      "Volumes: [1.26, 1.88, 0.98]\n",
      "bytes\n",
      "\n",
      "Tambourine Information:\n",
      "Timestamps: [0, 2479, 4958, 7437]\n",
      "Volumes: [0.12, 1.02, 0.3, 1.1]\n",
      "bytes\n",
      "\n",
      "Guiro Information:\n",
      "Timestamps: [0, 2423, 4846, 7269]\n",
      "Volumes: [0.51, 1.78, 1.3, 0.24]\n",
      "bytes\n",
      "\n",
      "Cabasa Information:\n",
      "Timestamps: [0, 2408, 4816, 7224]\n",
      "Volumes: [0.42, 1.36, 1.98, 0.45]\n",
      "bytes\n",
      "\n",
      "Cymbal Information:\n",
      "Timestamps: [0, 3834, 7668]\n",
      "Volumes: [0.64, 1.01, 0.24]\n",
      "bytes\n",
      "\n",
      "Hi-hat-open Information:\n",
      "Timestamps: [0, 2584, 5168, 7752]\n",
      "Volumes: [1.28, 0.35, 1.96, 0.84]\n",
      "bytes\n",
      "\n",
      "Hi-hat-closed Information:\n",
      "Timestamps: [0, 2090, 4180, 6270]\n",
      "Volumes: [0.25, 0.1, 1.92, 1.32]\n",
      "bytes\n",
      "\n",
      "Medium-tom Information:\n",
      "Timestamps: [0, 3390, 6780]\n",
      "Volumes: [0.36, 1.98, 0.24]\n",
      "bytes\n",
      "\n",
      "Low-tom Information:\n",
      "Timestamps: [0, 2687, 5374]\n",
      "Volumes: [0.67, 0.18, 1.34]\n",
      "bytes\n",
      "\n",
      "Kick-drum Information:\n",
      "Timestamps: [0, 3918, 7836]\n",
      "Volumes: [0.98, 0.69, 1.79]\n",
      "bytes\n",
      "\n",
      "Snare-drum Information:\n",
      "Timestamps: [0, 3564, 7128]\n",
      "Volumes: [1.05, 0.22, 1.95]\n",
      "bytes\n",
      "\n"
     ]
    }
   ],
   "source": [
    "import random\n",
    "import os\n",
    "\n",
    "def generate_percussion_repetition(speed=120):\n",
    "    beat = speed / 60 * 1000\n",
    "    half_beat = speed / 60 * 500\n",
    "\n",
    "    percussion_dict = {}\n",
    "\n",
    "    for instrument in [\"shaker\", \"tambourine\", \"guiro\", \"cabasa\", \"cymbal\", \"hi-hat-open\", \"hi-hat-closed\", \"medium-tom\", \"low-tom\", \"kick-drum\", \"snare-drum\"]:\n",
    "        # Generate timestamps\n",
    "        timestamps = [i for i in range(0, 8000, round(random.uniform(beat, beat * 2)))]\n",
    "        percussion_dict[instrument] = {'timestamps': timestamps}\n",
    "\n",
    "        # Generate volumes in the range of 0.1 to 2.0\n",
    "        volumes = [round(random.uniform(0.1, 2.0), 2) for _ in range(len(timestamps))]\n",
    "        percussion_dict[instrument]['volumes'] = volumes\n",
    "\n",
    "        # Read bytes from file and add to the dictionary\n",
    "        file_path = f\"{instrument}.bin\"\n",
    "        if os.path.exists(file_path):\n",
    "            bytes_data = read_uint8_list_from_file(file_path)\n",
    "            percussion_dict[instrument]['bytes'] = bytes_data\n",
    "\n",
    "    return percussion_dict\n",
    "\n",
    "# Example usage with 120 BPM metronome speed\n",
    "metronome_speed = 120\n",
    "percussion_repetition = generate_percussion_repetition(metronome_speed)\n",
    "\n",
    "# Print the percussion repetition information for each instrument\n",
    "for instrument, data in percussion_repetition.items():\n",
    "    print(f\"{instrument.capitalize()} Information:\")\n",
    "    print(f\"Timestamps: {data['timestamps']}\")\n",
    "    print(f\"Volumes: {data['volumes']}\")\n",
    "    if 'bytes' in data:\n",
    "        print(\"bytes\")\n",
    "    print()\n"
   ]
  },
  {
   "cell_type": "code",
   "execution_count": 115,
   "id": "976759c4",
   "metadata": {},
   "outputs": [
    {
     "name": "stdout",
     "output_type": "stream",
     "text": [
      "shaker\n",
      "tambourine\n",
      "guiro\n",
      "cabasa\n",
      "cymbal\n",
      "hi-hat-open\n",
      "hi-hat-closed\n",
      "medium-tom\n",
      "low-tom\n",
      "kick-drum\n",
      "snare-drum\n"
     ]
    },
    {
     "name": "stderr",
     "output_type": "stream",
     "text": [
      "C:\\Users\\jasmi\\AppData\\Local\\Temp\\ipykernel_19368\\3613132209.py:20: RuntimeWarning: invalid value encountered in cast\n",
      "  scaled_sound_segment = (sound_data * volume_factor).astype(np.int32)\n",
      "C:\\Users\\jasmi\\AppData\\Local\\Temp\\ipykernel_19368\\3613132209.py:37: RuntimeWarning: invalid value encountered in cast\n",
      "  scaled_sound_segment = (sound_data * volume_factor).astype(np.int32)\n"
     ]
    }
   ],
   "source": [
    "mixed_sounds_bytes = np.empty(0, dtype=np.int32)\n",
    "\n",
    "for instrument, data in percussion_repetition.items():\n",
    "    print(instrument)\n",
    "    if instrument == \"shaker\":\n",
    "        mixed_sounds_bytes = mix_sounds(data['timestamps'], data['volumes'], data['bytes'], 120)\n",
    "    else:\n",
    "        mixed_sounds_bytes = mix_sounds(data['timestamps'], data['volumes'], data['bytes'], 120, mixed_sounds_bytes)"
   ]
  },
  {
   "cell_type": "code",
   "execution_count": 116,
   "id": "f609b2c0",
   "metadata": {},
   "outputs": [],
   "source": [
    "save_as_wav(mixed_sounds_bytes, \"random_repetition.wav\")"
   ]
  }
 ],
 "metadata": {
  "kernelspec": {
   "display_name": "Python 3 (ipykernel)",
   "language": "python",
   "name": "python3"
  },
  "language_info": {
   "codemirror_mode": {
    "name": "ipython",
    "version": 3
   },
   "file_extension": ".py",
   "mimetype": "text/x-python",
   "name": "python",
   "nbconvert_exporter": "python",
   "pygments_lexer": "ipython3",
   "version": "3.11.5"
  }
 },
 "nbformat": 4,
 "nbformat_minor": 5
}
